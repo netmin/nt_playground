{
 "cells": [
  {
   "metadata": {},
   "cell_type": "code",
   "outputs": [],
   "execution_count": null,
   "source": [
    "# Market Monitor Example\n",
    "\n",
    "This notebook demonstrates how to monitor incoming bar data without executing trades, using a custom actor (`MarketMonitorActor`)."
   ],
   "id": "efb2f7b242e0715b"
  },
  {
   "metadata": {},
   "cell_type": "markdown",
   "source": "",
   "id": "49d94f6302d56a28"
  },
  {
   "metadata": {},
   "cell_type": "raw",
   "source": [
    "# Market Monitor Example\n",
    "\n",
    "This notebook demonstrates how to monitor incoming bar data without executing trades, using a custom actor (`MarketMonitorActor`)."
   ],
   "id": "8fc5aaeaa06f11a5"
  },
  {
   "metadata": {},
   "cell_type": "markdown",
   "source": "",
   "id": "9aa55e8f7834d205"
  },
  {
   "metadata": {},
   "cell_type": "markdown",
   "source": "",
   "id": "d7a66af467ca38ca"
  }
 ],
 "metadata": {},
 "nbformat": 5,
 "nbformat_minor": 9
}
